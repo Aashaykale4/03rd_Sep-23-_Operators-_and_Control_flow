{
 "cells": [
  {
   "cell_type": "code",
   "execution_count": 5,
   "metadata": {},
   "outputs": [
    {
     "name": "stdout",
     "output_type": "stream",
     "text": [
      "The number is +ve\n"
     ]
    }
   ],
   "source": [
    "# Basic If-Else Statements\n",
    "# 1. Write a Python program to check if a given number is positive or negative\n",
    "s=int(input(\"enter the number:\")) #input number\n",
    "if s>=0: #condition to check +ve and -ve no.\n",
    "    print(\"The number is +ve\")\n",
    "else:\n",
    "    print(\"The number is -ve\")"
   ]
  },
  {
   "cell_type": "code",
   "execution_count": 6,
   "metadata": {},
   "outputs": [
    {
     "name": "stdout",
     "output_type": "stream",
     "text": [
      "The voter is not eligible\n"
     ]
    }
   ],
   "source": [
    "# 2. Create a program that determines if a person is eligible to vote based on their age\n",
    "s=int(input(\"enter the number:\")) #input age\n",
    "if s>=18<=100: #condition to check eligiblity critaria\n",
    "    print(\"The voter is eligible\")\n",
    "else:\n",
    "    print(\"The voter is not eligible\")"
   ]
  },
  {
   "cell_type": "code",
   "execution_count": 8,
   "metadata": {},
   "outputs": [
    {
     "name": "stdout",
     "output_type": "stream",
     "text": [
      "2 no. > 1 no.\n"
     ]
    }
   ],
   "source": [
    "# 3. Develop a program to find the maximum of two numbers using if-else statements\n",
    "s=int(input(\"enter 1 no.\"))  #input no.s\n",
    "a=int(input(\"enter 2 no.\"))\n",
    "if s>a: #checking maximum condition\n",
    "    print(\"1 no. is > 2 no.\")\n",
    "else:\n",
    "    print(\"2 no. > 1 no.\")"
   ]
  },
  {
   "cell_type": "code",
   "execution_count": 11,
   "metadata": {},
   "outputs": [
    {
     "name": "stdout",
     "output_type": "stream",
     "text": [
      "The year 1600 is leap year\n"
     ]
    }
   ],
   "source": [
    "# 4. Write a Python script to classify a given year as a leap year or not.\n",
    "y=int(input(\"enter the year:\"))  #user input\n",
    "if (y%4==0 &y%100!=0)or(y%400==0):  #condition to check for leap year\n",
    "    print(f\"The year {y} is leap year\")\n",
    "else:\n",
    "    print(\"The year is not leap year\")\n"
   ]
  },
  {
   "cell_type": "code",
   "execution_count": 72,
   "metadata": {},
   "outputs": [
    {
     "name": "stdout",
     "output_type": "stream",
     "text": [
      "The charecter y is constant\n"
     ]
    }
   ],
   "source": [
    "# 5. Create a program that checks whether a character is a vowel or a consonant\n",
    "v=[\"a\",\"e\",\"o\",\"i\",\"u\"]\n",
    "char=input(\"enter the charecter:\") #user input\n",
    "a=len(char)  #len of char\n",
    "\n",
    "if (a==1)&(char not in v):  #checks if len of char is 1 and is vowel\n",
    "     print(f\"The charecter {char} is constant\")\n",
    "if (a==1)&(char in v):\n",
    "    print(f\"The charecter {char} is vowel\")\n",
    "\n",
    "    \n"
   ]
  },
  {
   "cell_type": "code",
   "execution_count": 69,
   "metadata": {},
   "outputs": [
    {
     "name": "stdout",
     "output_type": "stream",
     "text": [
      "The number is even\n"
     ]
    }
   ],
   "source": [
    "# 6. Implement a program to determine whether a given number is even or odd.\n",
    "n=int(input(\"enter the number:\"))\n",
    "if n%2==0:    #condition to check even \n",
    "    print(\"The number is even\")\n",
    "else:         #else its odd\n",
    "    print(\"The number is odd\")\n"
   ]
  },
  {
   "cell_type": "code",
   "execution_count": 20,
   "metadata": {},
   "outputs": [
    {
     "name": "stdout",
     "output_type": "stream",
     "text": [
      "The absolute value : 6\n"
     ]
    }
   ],
   "source": [
    "# 7. Write a Python function to calculate the absolute value of a number without using the `abs()` function\n",
    "n=int(input(\"enter the number\"))\n",
    "if n <0:     # if number is -ve it turns it into absolute value\n",
    "    print(\"The absolute value:\",n*-1)\n",
    "else:        # else it is absolute\n",
    "    print(\"The absolute value :\",n)"
   ]
  },
  {
   "cell_type": "code",
   "execution_count": 51,
   "metadata": {},
   "outputs": [
    {
     "name": "stdout",
     "output_type": "stream",
     "text": [
      "The greatest number is 1800\n"
     ]
    }
   ],
   "source": [
    "# 8. Develop a program that determines the largest of three given numbers using if-else statements.\n",
    "n1=1090\n",
    "n2=1000\n",
    "n3=1800\n",
    "if (n1>n2) & (n1>n3):   #checks if n1 is greater\n",
    "    print(f\"The greates number is {n1}\")\n",
    "if (n2>n3) & (n2>n1):   #checks if n2 is greater\n",
    "    print(f\"The greatest number is {n2}\")\n",
    "if(n3>n2) & (n3>n1):    #checks if n3 is greater\n",
    "    print(f\"The greatest number is {n3}\")"
   ]
  },
  {
   "cell_type": "code",
   "execution_count": 58,
   "metadata": {},
   "outputs": [
    {
     "name": "stdout",
     "output_type": "stream",
     "text": [
      "The number is not palindrome \n"
     ]
    }
   ],
   "source": [
    "# 9. Create a program that checks if a given string is a palindrome.\n",
    "n=input(\"Enter the number:\")\n",
    "s=n[::-1]\n",
    "if n==s:  #checks if palindrome\n",
    "    print(f\"The number {n} is palindrome\")\n",
    "else:     #else it is not\n",
    "    print(\"The number is not palindrome \")"
   ]
  },
  {
   "cell_type": "code",
   "execution_count": 63,
   "metadata": {},
   "outputs": [],
   "source": [
    "# 10. Write a Python program to calculate the grade based on a student's score\n",
    "s=int(input(\"Enter the score up to 100:\"))\n",
    "if (s<40): #if score is above 40\n",
    "    print(\"The student has F grade\")\n",
    "if (s>=40) & (s<=70):  # if score is btn 40 & 70\n",
    "    print(\"The student has B grade\")\n",
    "if (s>70) & (s<=100):  # if score is btn 70 & 100\n",
    "    print(\"The student has A grade\")\n",
    "\n",
    "\n"
   ]
  },
  {
   "cell_type": "code",
   "execution_count": 2,
   "metadata": {},
   "outputs": [
    {
     "name": "stdout",
     "output_type": "stream",
     "text": [
      "The largest value is 10000\n"
     ]
    }
   ],
   "source": [
    "# Nested If-Else Statements\n",
    "# 11. Write a program to find the largest among three numbers using nested if-else statements.\n",
    "n1=1090\n",
    "n2=10000\n",
    "n3=1800\n",
    "if n1>=n2:   # condition to check largest btn n1 and n2\n",
    "    if n1>=n3:# condition to check largest btn n1 and n3\n",
    "        l=n1   # assigning n1 to var l \n",
    "    else:\n",
    "        l=n3   # assigning n3 to var l \n",
    "else:\n",
    "    if n2>=n3:# condition to check largest btn n2 and n3\n",
    "        l=n2  # assigning n2 to var l \n",
    "    else:\n",
    "        l=n3  # assigning n3 to var l \n",
    "print(f\"The largest value is {l}\") #printing l\n",
    "    "
   ]
  },
  {
   "cell_type": "code",
   "execution_count": 5,
   "metadata": {},
   "outputs": [
    {
     "name": "stdout",
     "output_type": "stream",
     "text": [
      "The triangle is equilateral \n"
     ]
    }
   ],
   "source": [
    "# 12. Implement a program to determine if a triangle is equilateral, isosceles, or scalene\n",
    "s1=3\n",
    "s2=3\n",
    "s3=3\n",
    "if s1==s2:  #check if s1=s2\n",
    "    if s2==s3:#check if s2=s3\n",
    "      print(\"The triangle is equilateral \")\n",
    "    else:  #check else s2!=s3\n",
    "       print(\"The triangle is isoscales\")\n",
    "if s1!=s2: #check if s1!=s3\n",
    "   if s2==s3:#check if s2=s3\n",
    "      print(\"The triangle is isoscales\")\n",
    "   else: #check else s2!=s3\n",
    "      print(\"The triangle is scalen\")\n",
    "      \n"
   ]
  },
  {
   "cell_type": "code",
   "execution_count": 25,
   "metadata": {},
   "outputs": [
    {
     "name": "stdout",
     "output_type": "stream",
     "text": [
      "1901 is not a leap year and not a century year.\n"
     ]
    }
   ],
   "source": [
    "# 13. Develop a program that checks if a year is a leap year and also if it is a century year\n",
    "# Input year from the user\n",
    "y = int(input(\"Enter a year: \"))\n",
    "\n",
    "\n",
    "if (y%4 ==0 and y%100 !=0) or (y%400 ==0):# Check if it's a leap year and/or a century year\n",
    "    if y%100 ==0:\n",
    "        print(f\"{y} is a century year and is a leap year.\")\n",
    "    else:\n",
    "        print(f\"{y} is a leap year but not century year\")\n",
    "    \n",
    "else:\n",
    "    if y%100 ==0:   # Check if it's not a leap year and is a century year\n",
    "        print(f\"{y} is a century year but  is a not leap year.\")\n",
    "    else:\n",
    "        print(f\"{y} is not a leap year and not a century year.\")\n"
   ]
  },
  {
   "cell_type": "code",
   "execution_count": 34,
   "metadata": {},
   "outputs": [
    {
     "name": "stdout",
     "output_type": "stream",
     "text": [
      "The number -2 is -ve \n"
     ]
    }
   ],
   "source": [
    "# 14. Write a Python script to determine if a number is positive, negative, or zero\n",
    "n=int(input(\"enter the number:\"))\n",
    "\n",
    "if n>0: #check if no. is +ve\n",
    "    print(f\"The number {n} is +ve\")\n",
    "    \n",
    "else:\n",
    "      if n==0:#check if no. is 0\n",
    "        print(f\"The number is {n}\")\n",
    "      else:#check if no. is -ve\n",
    "       print(f\"The number {n} is -ve \")"
   ]
  },
  {
   "cell_type": "code",
   "execution_count": 41,
   "metadata": {},
   "outputs": [
    {
     "name": "stdout",
     "output_type": "stream",
     "text": [
      "The person is teenager\n"
     ]
    }
   ],
   "source": [
    "# 15. Create a program to check if a person is a teenager (between 13 and 19 years old).\n",
    "a=int(input(\"enter the age:\"))\n",
    "\n",
    "if a<13: #check if person is kid\n",
    "    print(f\"The person is kid\")\n",
    "    \n",
    "else:\n",
    "      if (13<=a<=19):#check if person is teen\n",
    "        print(f\"The person is teenager\")\n",
    "      else:#check if person is adult\n",
    "       print(f\"The person is adult \")"
   ]
  },
  {
   "cell_type": "code",
   "execution_count": 48,
   "metadata": {},
   "outputs": [
    {
     "name": "stdout",
     "output_type": "stream",
     "text": [
      "The angle 890 is obtuse \n"
     ]
    }
   ],
   "source": [
    "# 16. Develop a program that determines the type of angle based on its measure (acute, obtuse, or right).\n",
    "a=int(input(\"enter the angle\"))\n",
    "if a<90: #check if angle is acute\n",
    "    print(f\"The angle {a} is acute\")\n",
    "    \n",
    "else:\n",
    "      if a==90:#check if angle is right\n",
    "        print(f\"The angle {a} is right\")\n",
    "      else:#check if angle is obtuse\n",
    "       print(f\"The angle {a} is obtuse \")"
   ]
  },
  {
   "cell_type": "code",
   "execution_count": 6,
   "metadata": {},
   "outputs": [
    {
     "name": "stdout",
     "output_type": "stream",
     "text": [
      "The root is real and equal: 2.0\n"
     ]
    }
   ],
   "source": [
    "\n",
    "# 17. Write a Python program to calculate the roots of a quadratic equation\n",
    "\n",
    "\n",
    "a = int(input(\"Enter the coefficient a: \"))\n",
    "b = int(input(\"Enter the coefficient b: \"))\n",
    "c = int(input(\"Enter the coefficient c: \"))\n",
    "\n",
    "\n",
    "dis = b**2 - 4*a*c # Calculate the discriminant \n",
    "\n",
    "\n",
    "if dis > 0: #checking the nature of roots\n",
    "    \n",
    "    root1 = (-b + 0.5*(dis)) / (2*a)# checking Two real and distinct roots\n",
    "    root2 = (-b - 0.5*(dis)) / (2*a)\n",
    "    print(f\"The roots are real and distinct: {root1} and {root2}\")\n",
    "else:\n",
    "    if dis == 0:\n",
    "    \n",
    "      root = -b / (2*a)# checking One real root \n",
    "      print(f\"The root is real and equal: {root}\")\n",
    "    else:\n",
    "    \n",
    "      realPart = -b / (2*a)#checking Complex roots\n",
    "      imagPart = 0.5*(abs(dis)) / (2*a)\n",
    "      print(f\"The roots are complex: {realPart}+{imagPart}\")\n"
   ]
  },
  {
   "cell_type": "code",
   "execution_count": 8,
   "metadata": {},
   "outputs": [
    {
     "name": "stdout",
     "output_type": "stream",
     "text": [
      "Invalid input.\n"
     ]
    }
   ],
   "source": [
    "# 18. Implement a program to determine the day of the week based on a user-provided number (1 for Monday, 2 \n",
    "# for Tuesday, etc.).\n",
    "d = {\n",
    "    1: \"Monday\",    #dictionary to store days of week\n",
    "    2: \"Tuesday\",\n",
    "    3: \"Wednesday\",\n",
    "    4: \"Thursday\",\n",
    "    5: \"Friday\",\n",
    "    6: \"Saturday\",\n",
    "    7: \"Sunday\"\n",
    "}\n",
    "\n",
    "i = int(input(\"Enter a number (1 for Monday, 2 for Tuesday, etc.): \"))  # user input for days\n",
    "\n",
    "\n",
    "if 1 <= i <= 7:   # check if day is valid\n",
    "    day = d[i]\n",
    "    print(f\"The day of the week is {day}.\")\n",
    "else:\n",
    "    print(\"Invalid input.\")"
   ]
  },
  {
   "cell_type": "code",
   "execution_count": 15,
   "metadata": {},
   "outputs": [
    {
     "name": "stdout",
     "output_type": "stream",
     "text": [
      "1900 is not a leap year and not divisible by 400\n"
     ]
    }
   ],
   "source": [
    "# 19. Create a program that determines if a year is a leap year and also if it is evenly divisible by 400.\n",
    "y = int(input(\"Enter a year: \"))\n",
    "\n",
    "\n",
    "if (y%4 ==0 and y%100 !=0) or (y%400 ==0) :# Check if it's a leap year and/or a century year\n",
    "    if (y%400 ==0):\n",
    "        print(f\"{y}  is a leap year. and is divisible by 400\")\n",
    "    else:\n",
    "        print(f\"{y} is a leap year but is not divisible by 400\")\n",
    "    \n",
    "else:\n",
    "    if (y%400 ==0):   # Check if it's not a leap year and is a century year\n",
    "        print(f\"{y} is divisible by 400 but  is a not leap year.\")\n",
    "    else:\n",
    "        print(f\"{y} is not a leap year and not divisible by 400\")"
   ]
  },
  {
   "cell_type": "code",
   "execution_count": 7,
   "metadata": {},
   "outputs": [
    {
     "name": "stdout",
     "output_type": "stream",
     "text": [
      "23 is a prime number\n"
     ]
    }
   ],
   "source": [
    "# 20. Develop a program that checks if a given number is prime or not using nested if-else statements\n",
    "n = 23\n",
    "if n > 1:\n",
    "\t\n",
    "\tfor i in range(2, int(n/2)+1):   # here we see that number is not dividible  between n and n/2\n",
    "\t\t\n",
    "\t\tif (n % i) == 0:\n",
    "\t\t\tprint(n, \"is not a prime number\")  # if divisible it is not prime\n",
    "\t\t\tbreak\n",
    "\telse:\n",
    "\t\tprint(n, \"is a prime number\")  # else it is prime\n",
    "else:\n",
    "\tprint(n, \"is not a prime number\")\n"
   ]
  },
  {
   "cell_type": "code",
   "execution_count": 13,
   "metadata": {},
   "outputs": [
    {
     "name": "stdout",
     "output_type": "stream",
     "text": [
      "Invalid grade\n"
     ]
    }
   ],
   "source": [
    "# Elif Statements:\n",
    "# 21. Write a Python program to assign grades based on different ranges of scores using elif statements\n",
    "\n",
    "s=int(input(\"Enter the score up to 100:\"))\n",
    "if (s>=1)&(s<=40): #if score is above 40\n",
    "    print(\"The student has F grade\")\n",
    "elif (s>=40) & (s<=70):  # if score is btn 40 & 70\n",
    "    print(\"The student has B grade\")\n",
    "elif (s>70) & (s<=100):  # if score is btn 70 & 100\n",
    "    print(\"The student has A grade\")\n",
    "else:   #else score invalid\n",
    "    print(\"Invalid grade\")\n"
   ]
  },
  {
   "cell_type": "code",
   "execution_count": 19,
   "metadata": {},
   "outputs": [
    {
     "name": "stdout",
     "output_type": "stream",
     "text": [
      "The triangle is isoscales\n"
     ]
    }
   ],
   "source": [
    "# 22. Implement a program to determine the type of a triangle based on its angles.\n",
    "a1=2\n",
    "a2=4\n",
    "a3=4\n",
    "if (a1==a2==a3):\n",
    "    print(\"The triangle is equilateral\") # if all angle equal triangle is equlateral\n",
    "elif(a1!=a2==a3):\n",
    "    print(\"The triangle is isoscales\")   # if one angle is different  triangle is isoscales\n",
    "elif(a1==a2!=a3):\n",
    "    print(\"The triangle is isoscales\")\n",
    "elif(a1==a3!=a2):\n",
    "    print(\"The triangle is isoscales\")  \n",
    "else:\n",
    "    print(\"The triangle is scalen\")     #if all angles are different then triangle is scalen"
   ]
  },
  {
   "cell_type": "code",
   "execution_count": 23,
   "metadata": {},
   "outputs": [
    {
     "name": "stdout",
     "output_type": "stream",
     "text": [
      "The person is:Normal Weight\n"
     ]
    }
   ],
   "source": [
    "\n",
    "# 23. Develop a program to categorize a given person's BMI into underweight, normal, overweight, or obese using \n",
    "# elif statements\n",
    "bmi=23\n",
    "if bmi < 18.5:\n",
    "        category = \"Underweight\"  # if bmi is below 18.5 the person is underweight\n",
    "elif 18.5 <= bmi < 24.9:\n",
    "        category = \"Normal Weight\"# if bmi is between 18.5 and 24.9 the person is normal\n",
    "elif 25.0 <= bmi < 29.9:\n",
    "        category = \"Overweight\"    # if bmi is between 25and 29.9 the person is overweight\n",
    "else:\n",
    "        category = \"Obese\"         #else person is obese\n",
    "\n",
    "print(f\"The person is:{category}\")"
   ]
  },
  {
   "cell_type": "code",
   "execution_count": 26,
   "metadata": {},
   "outputs": [
    {
     "name": "stdout",
     "output_type": "stream",
     "text": [
      "The number -1 is -ve \n"
     ]
    }
   ],
   "source": [
    "# 24. Create a program that determines whether a given number is positive, negative, or zero using elif \n",
    "# statements.\n",
    "n=int(input(\"enter the number:\"))\n",
    "\n",
    "if n>0: #check if no. is +ve\n",
    "    print(f\"The number {n} is +ve\")\n",
    "    \n",
    "elif(n==0):\n",
    "      #check if no. is 0\n",
    "    print(f\"The number is {n}\")\n",
    "else:#check if no. is -ve\n",
    "    print(f\"The number {n} is -ve \")"
   ]
  },
  {
   "cell_type": "code",
   "execution_count": 35,
   "metadata": {},
   "outputs": [
    {
     "name": "stdout",
     "output_type": "stream",
     "text": [
      "Please enter a single character.\n"
     ]
    }
   ],
   "source": [
    "# 25. Write a Python script to determine the type of a character (uppercase, lowercase, or special) using elif \n",
    "# statements.\n",
    "try:\n",
    "    char = input(\"Enter a character: \")\n",
    "    sc=['@','#','$','%','&']\n",
    "    if len(char) == 1:\n",
    "         if char.isupper():\n",
    "            print(\"Uppercase\")\n",
    "         elif char.islower():\n",
    "            print( \"Lowercase\")\n",
    "         elif char in sc:\n",
    "            print(\"Special Character\")\n",
    "         else:\n",
    "            print(\"Invalid Charecter\")\n",
    "\n",
    "\n",
    "    else:\n",
    "       print(\"Please enter a single character.\")\n",
    "except ValueError:\n",
    "    print(\"Invalid input. Please enter a single character.\")\n",
    "\n",
    "\n",
    "\n",
    "\n",
    "\n"
   ]
  },
  {
   "cell_type": "code",
   "execution_count": 41,
   "metadata": {},
   "outputs": [
    {
     "name": "stdout",
     "output_type": "stream",
     "text": [
      "10 percent  discounted amount= 684.0\n"
     ]
    }
   ],
   "source": [
    "# 26. Implement a program to calculate the discounted price based on different purchase amounts using elif \n",
    "# statements\n",
    "purchase=int(input(\"Enter the purchase :\"))\n",
    "\n",
    "if (purchase>=500) & (purchase<=1000):  #10% on purchase btn 500 & 1000\n",
    "    discount=(purchase*10)/100\n",
    "    amount= purchase-discount                                #calculating the discount on the basis of purchase\n",
    "    print(\"10 percent  discount on amount=\",amount)\n",
    "elif(purchase>1000):                    # 20 % on purchase above 1000\n",
    "    discount=(purchase*20)/100\n",
    "    amount=purchase-discount\n",
    "    print(\"20 percent discount on amount = \",amount)\n",
    "else:                                   #No discount on purchase below 500\n",
    "    print(\"sorry No discount! \")\n"
   ]
  },
  {
   "cell_type": "code",
   "execution_count": null,
   "metadata": {},
   "outputs": [],
   "source": [
    "# 27. Develop a program to calculate the electricity bill based on different consumption slabs using elif \n",
    "# statements.\n",
    "units=int(input(\"Enter the units :\"))\n",
    "\n",
    "if (units>=1)&(units<=20) :  #units btn 1 and 20                               \n",
    "    print(\"Low electricity consuption\")\n",
    "elif(units>20)&(units<=50):                    # units btn 20 and 50\n",
    "    \n",
    "    print(\"Normal electricity consumption\")\n",
    "elif(units>50):                                   #units above 50\n",
    "    print(\"High electricity consumption\")\n",
    "else:\n",
    "    print(\"Invalid units\")"
   ]
  },
  {
   "cell_type": "code",
   "execution_count": 8,
   "metadata": {},
   "outputs": [
    {
     "name": "stdout",
     "output_type": "stream",
     "text": [
      "The quadrilateral is rectangle & square\n"
     ]
    }
   ],
   "source": [
    "# 28. Create a program to determine the type of quadrilateral based on its angles and sides using elif \n",
    "# statements.\n",
    "a1=90\n",
    "a2=90\n",
    "a3=90\n",
    "a4=90\n",
    "if (a1==90)&(a2==90)&(a3==90)&(a4==90):\n",
    "    print(\"The quadrilateral is rectangle & square\")       # quadrilateral based on angels\n",
    "elif (a1>a2)&(a3>a4)&(a2==a4)&(a3==a1):\n",
    "    print(\"The quadrilateral is parellelogram & rhombus\")\n",
    "elif( a1==a3)or(a2==a4):\n",
    "    print(\"The quadrilateral is kite\")\n",
    "else:\n",
    "    print(\"quadrilateral is trapezoid\")"
   ]
  },
  {
   "cell_type": "code",
   "execution_count": 12,
   "metadata": {},
   "outputs": [
    {
     "name": "stdout",
     "output_type": "stream",
     "text": [
      "Invalid month\n"
     ]
    }
   ],
   "source": [
    "# 29. Write a Python script to determine the season based on a user-provided month using elif statements\n",
    "s1=[1,2,3,4]\n",
    "s2=[5,6,7,8]\n",
    "s3=[9,10,11,12]\n",
    "month=int(input(\"enter the month:\"))\n",
    "if(month in s1):\n",
    "    print(\"The month is in summer\")     # season based on mont\n",
    "elif(month in s2):\n",
    "    print(\"The month is in rainy\")\n",
    "elif(month in s3):\n",
    "    print(\"The month is in winter\")\n",
    "else:\n",
    "    print(\"Invalid month\")"
   ]
  },
  {
   "cell_type": "code",
   "execution_count": 15,
   "metadata": {},
   "outputs": [
    {
     "name": "stdout",
     "output_type": "stream",
     "text": [
      "The year is common\n",
      "The month has 30 days\n"
     ]
    }
   ],
   "source": [
    "# 30. Implement a program to determine the type of a year (leap or common) and month (30 or 31 days) using \n",
    "# elif statements\n",
    "y = int(input(\"Enter a year: \"))\n",
    "m=int(input(\"Enter the month\"))\n",
    "m1=[4,6,9,11]\n",
    "m2=[1,2,3,5,7,8,10,12]\n",
    "\n",
    "\n",
    "if (y%4 ==0 and y%100 !=0) or (y%400 ==0):# Check if it's a leap year or a common year\n",
    "    print(\"The year is leap\")\n",
    "    \n",
    "else:\n",
    "    print(\"The year is common\")\n",
    "\n",
    "if m in m1:\n",
    "    print(\"The month has 30 days\")  #check if month has 30 or 31 days\n",
    "elif m in m2:\n",
    "    print(\"The month has 31 days\")\n",
    "else:\n",
    "    print(\"Invalid month\")"
   ]
  },
  {
   "cell_type": "code",
   "execution_count": 1,
   "metadata": {},
   "outputs": [
    {
     "name": "stdout",
     "output_type": "stream",
     "text": [
      "The number 6 is +ve\n"
     ]
    }
   ],
   "source": [
    "# Basic Level\n",
    "# 1. Write a Python program that checks if a given number is positive, negative, or zero\n",
    "n=int(input(\"enter the number:\"))\n",
    "\n",
    "if n>0: #check if no. is +ve\n",
    "    print(f\"The number {n} is +ve\")\n",
    "    \n",
    "elif(n==0):\n",
    "      #check if no. is 0\n",
    "    print(f\"The number is {n}\")\n",
    "else:#check if no. is -ve\n",
    "    print(f\"The number {n} is -ve \")"
   ]
  },
  {
   "cell_type": "code",
   "execution_count": 5,
   "metadata": {},
   "outputs": [
    {
     "name": "stdout",
     "output_type": "stream",
     "text": [
      "You are not eligible to vote\n"
     ]
    }
   ],
   "source": [
    "# 2. Create a program to determine if a person is eligible to vote based on their age.\n",
    "n=int(input(\"Enter the age:\"))\n",
    "\n",
    "if (n>=18) &(n<=100):\n",
    "    print(\"You are eligible to vote\") #if age >18 &<100 can vote\n",
    "elif (n<1):\n",
    "    print(\"Invalid age\") #age < 1 invalid age\n",
    "else:\n",
    "    print(\"You are not eligible to vote\")"
   ]
  },
  {
   "cell_type": "code",
   "execution_count": 8,
   "metadata": {},
   "outputs": [
    {
     "name": "stdout",
     "output_type": "stream",
     "text": [
      "1st no. is > 2nd no.\n"
     ]
    }
   ],
   "source": [
    "# 3. Write a program to find the maximum of two given numbers using conditional statements.\n",
    "s=int(input(\"enter 1st no.\"))  #input no.s\n",
    "a=int(input(\"enter 2nd no.\"))\n",
    "if s>a: #checking maximum condition\n",
    "    print(\"1st no. is > 2nd no.\")\n",
    "else:\n",
    "    print(\"2nd no. > 1st no.\")"
   ]
  },
  {
   "cell_type": "code",
   "execution_count": 9,
   "metadata": {},
   "outputs": [
    {
     "name": "stdout",
     "output_type": "stream",
     "text": [
      "The student has B grade\n"
     ]
    }
   ],
   "source": [
    "# 4. Develop a program that calculates the grade of a student based on their exam score\n",
    "s=int(input(\"Enter the score up to 100:\"))\n",
    "if (s>=1)&(s<=40): #if score is above 40\n",
    "    print(\"The student has F grade\")\n",
    "elif (s>=40) & (s<=70):  # if score is btn 40 & 70\n",
    "    print(\"The student has B grade\")\n",
    "elif (s>70) & (s<=100):  # if score is btn 70 & 100\n",
    "    print(\"The student has A grade\")\n",
    "else:   #else score invalid\n",
    "    print(\"Invalid grade\")"
   ]
  },
  {
   "cell_type": "code",
   "execution_count": 12,
   "metadata": {},
   "outputs": [
    {
     "name": "stdout",
     "output_type": "stream",
     "text": [
      "The year is leap\n"
     ]
    }
   ],
   "source": [
    "# 5. Create a program that checks if a year is a leap year or not.\n",
    "y=int(input(\"Enter year:\"))\n",
    "if (y%4 ==0 and y%100 !=0) or (y%400 ==0):# Check if it's a leap year or a common year\n",
    "    print(\"The year is leap\")\n",
    "    \n",
    "else:\n",
    "    print(\"The year is not leap year\") #else year is not leap"
   ]
  },
  {
   "cell_type": "code",
   "execution_count": 13,
   "metadata": {},
   "outputs": [
    {
     "name": "stdout",
     "output_type": "stream",
     "text": [
      "The triangle is isoscales\n"
     ]
    }
   ],
   "source": [
    "# 6. Write a program to classify a triangle based on its sides' lengths.\n",
    "s1=2\n",
    "s2=3\n",
    "s3=3\n",
    "if (s1==s2)&(s2==s3):             #condition for equilateral triangle\n",
    "    print(\"The triangle is equlateral\")\n",
    "elif(s1!=s2)&(s2==s3):            #condition for isoscales triangle\n",
    "    print(\"The triangle is isoscales\")\n",
    "elif(s1==s2)&(s2!=s3):\n",
    "    print(\"The triangle is isoscales\")\n",
    "else:                             # else scalen triangle\n",
    "    print(\"The triangle is scalen\")"
   ]
  },
  {
   "cell_type": "code",
   "execution_count": 14,
   "metadata": {},
   "outputs": [
    {
     "name": "stdout",
     "output_type": "stream",
     "text": [
      "The largest value is 10000\n"
     ]
    }
   ],
   "source": [
    "# 7. Build a program that determines the largest of three given numbers\n",
    "n1=1090\n",
    "n2=10000\n",
    "n3=1800\n",
    "if n1>=n2:   # condition to check largest btn n1 and n2\n",
    "    if n1>=n3:# condition to check largest btn n1 and n3\n",
    "        l=n1   # assigning n1 to var l \n",
    "    else:\n",
    "        l=n3   # assigning n3 to var l \n",
    "else:\n",
    "    if n2>=n3:# condition to check largest btn n2 and n3\n",
    "        l=n2  # assigning n2 to var l \n",
    "    else:\n",
    "        l=n3  # assigning n3 to var l \n",
    "print(f\"The largest value is {l}\") #printing l\n",
    "    "
   ]
  },
  {
   "cell_type": "code",
   "execution_count": 15,
   "metadata": {},
   "outputs": [
    {
     "name": "stdout",
     "output_type": "stream",
     "text": [
      "The charecter e is vowel\n"
     ]
    }
   ],
   "source": [
    "# 8. Develop a program that checks whether a character is a vowel or a consonant\n",
    "v=[\"a\",\"e\",\"o\",\"i\",\"u\"]\n",
    "char=input(\"enter the charecter:\") #user input\n",
    "a=len(char)  #len of char\n",
    "\n",
    "if (a==1)&(char not in v):  #checks if len of char is 1 and is vowel\n",
    "     print(f\"The charecter {char} is constant\")\n",
    "if (a==1)&(char in v):\n",
    "    print(f\"The charecter {char} is vowel\")\n"
   ]
  },
  {
   "cell_type": "code",
   "execution_count": 16,
   "metadata": {},
   "outputs": [
    {
     "name": "stdout",
     "output_type": "stream",
     "text": [
      "10 percent  discount on amount= 540.0\n"
     ]
    }
   ],
   "source": [
    "# 9. Create a program to calculate the total cost of a shopping cart based on discounts.\n",
    "purchase=int(input(\"Enter the purchase :\"))\n",
    "\n",
    "if (purchase>=500) & (purchase<=1000):  #10% on purchase btn 500 & 1000\n",
    "    discount=(purchase*10)/100\n",
    "    amount= purchase-discount                                #calculating the discount on the basis of purchase\n",
    "    print(\"10 percent  discount on amount=\",amount)\n",
    "elif(purchase>1000):                    # 20 % on purchase above 1000\n",
    "    discount=(purchase*20)/100\n",
    "    amount=purchase-discount\n",
    "    print(\"20 percent discount on amount = \",amount)\n",
    "else:                                   #No discount on purchase below 500\n",
    "    print(\"sorry No discount! \")\n"
   ]
  },
  {
   "cell_type": "code",
   "execution_count": 17,
   "metadata": {},
   "outputs": [
    {
     "name": "stdout",
     "output_type": "stream",
     "text": [
      "The number is even\n"
     ]
    }
   ],
   "source": [
    "# 10. Write a program that checks if a given number is even or odd\n",
    "n=int(input(\"enter the number:\"))\n",
    "if n%2==0:    #condition to check even \n",
    "    print(\"The number is even\")\n",
    "else:         #else its odd\n",
    "    print(\"The number is odd\")"
   ]
  },
  {
   "cell_type": "code",
   "execution_count": 1,
   "metadata": {},
   "outputs": [
    {
     "name": "stdout",
     "output_type": "stream",
     "text": [
      "The roots are complex: -1.0+2.0\n"
     ]
    }
   ],
   "source": [
    "# Intermediate Level:\n",
    "# 11. Write a program that calculates the roots of a quadratic equation .\n",
    "a = int(input(\"Enter the coefficient a: \"))\n",
    "b = int(input(\"Enter the coefficient b: \"))\n",
    "c = int(input(\"Enter the coefficient c: \"))\n",
    "\n",
    "\n",
    "dis = b**2 - 4*a*c # Calculate the discriminant \n",
    "\n",
    "\n",
    "if dis > 0: #checking the nature of roots\n",
    "    \n",
    "    root1 = (-b + 0.5*(dis)) / (2*a)# checking Two real and distinct roots\n",
    "    root2 = (-b - 0.5*(dis)) / (2*a)\n",
    "    print(f\"The roots are real and distinct: {root1} and {root2}\")\n",
    "else:\n",
    "    if dis == 0:\n",
    "    \n",
    "      root = -b / (2*a)# checking One real root \n",
    "      print(f\"The root is real and equal: {root}\")\n",
    "    else:\n",
    "    \n",
    "      realPart = -b / (2*a)#checking Complex roots\n",
    "      imagPart = 0.5*(abs(dis)) / (2*a)\n",
    "      print(f\"The roots are complex: {realPart}+{imagPart}\")\n"
   ]
  },
  {
   "cell_type": "code",
   "execution_count": 2,
   "metadata": {},
   "outputs": [
    {
     "name": "stdout",
     "output_type": "stream",
     "text": [
      "The day of the week is Monday.\n"
     ]
    }
   ],
   "source": [
    "# 12. Create a program that determines the day of the week based on the day number (1-7).\n",
    "d = {\n",
    "    1: \"Monday\",    #dictionary to store days of week\n",
    "    2: \"Tuesday\",\n",
    "    3: \"Wednesday\",\n",
    "    4: \"Thursday\",\n",
    "    5: \"Friday\",\n",
    "    6: \"Saturday\",\n",
    "    7: \"Sunday\"\n",
    "}\n",
    "\n",
    "i = int(input(\"Enter a number (1 for Monday, 2 for Tuesday, etc.): \"))  # user input for days\n",
    "\n",
    "\n",
    "if 1 <= i <= 7:   # check if day is valid\n",
    "    day = d[i]\n",
    "    print(f\"The day of the week is {day}.\")\n",
    "else:\n",
    "    print(\"Invalid input.\")"
   ]
  },
  {
   "cell_type": "code",
   "execution_count": 6,
   "metadata": {},
   "outputs": [
    {
     "name": "stdout",
     "output_type": "stream",
     "text": [
      "720\n"
     ]
    }
   ],
   "source": [
    "# 13. Develop a program that calculates the factorial of a given number using recursion\n",
    "def factorial(n):\n",
    "    assert n>=0 and int(n)==n  # giving base condition that n should be >=0 aand n  is integer\n",
    "    if n in [0,1]:        #if n is 0,1 retue 1\n",
    "        return 1\n",
    "    else:\n",
    "        return n*factorial(n-1) #using recurssion for finding factorial\n",
    "print(factorial(6))"
   ]
  },
  {
   "cell_type": "code",
   "execution_count": 8,
   "metadata": {},
   "outputs": [
    {
     "name": "stdout",
     "output_type": "stream",
     "text": [
      "The largest value is 18\n"
     ]
    }
   ],
   "source": [
    "# 14. Write a program to find the largest among three numbers without using the `max()` function\n",
    "n1=10\n",
    "n2=11\n",
    "n3=18\n",
    "if n1>=n2:   # condition to check largest btn n1 and n2\n",
    "    if n1>=n3:# condition to check largest btn n1 and n3\n",
    "        l=n1   # assigning n1 to var l \n",
    "    else:\n",
    "        l=n3   # assigning n3 to var l \n",
    "else:\n",
    "    if n2>=n3:# condition to check largest btn n2 and n3\n",
    "        l=n2  # assigning n2 to var l \n",
    "    else:\n",
    "        l=n3  # assigning n3 to var l \n",
    "print(f\"The largest value is {l}\") #printing l\n",
    "    "
   ]
  },
  {
   "cell_type": "code",
   "execution_count": 13,
   "metadata": {},
   "outputs": [
    {
     "name": "stdout",
     "output_type": "stream",
     "text": [
      "Please Enter Your Card\n",
      "Card Inserted-\n",
      "Total amount: 200\n",
      "Not enough money!!\n",
      "The amount after debit: 0\n",
      "Thank You\n"
     ]
    }
   ],
   "source": [
    "# 15. Create a program that simulates a basic ATM transaction menu.\n",
    "s=\"please enter your card\"\n",
    "print(s.title())\n",
    "print(\"Card Inserted-\")\n",
    "p=input(\"Please enter your password:\")\n",
    "amount=len(p)*100                    #amount based on length of password for assuming \n",
    "print(\"Total amount:\",amount)\n",
    "debit=int(input(\"enter amount to be debited:\"))\n",
    "if debit>amount:                     #if debit amount is greater than total amount\n",
    "    print(\"Not enough money!!\")\n",
    "else:\n",
    "    amount1=amount-debit             # total amount after debit\n",
    "\n",
    "print(\"The amount after debit:\",amount1)\n",
    "print(\"Thank You\")\n"
   ]
  },
  {
   "cell_type": "code",
   "execution_count": 2,
   "metadata": {},
   "outputs": [
    {
     "name": "stdout",
     "output_type": "stream",
     "text": [
      "The number is not palindrome \n"
     ]
    }
   ],
   "source": [
    "# 16. Build a program that checks if a given string is a palindrome or not.\n",
    "n=input(\"Enter the number:\")\n",
    "s=n[::-1]\n",
    "if n==s:  #checks if palindrome\n",
    "    print(f\"The number {n} is palindrome\")\n",
    "else:     #else it is not\n",
    "    print(\"The number is not palindrome \")"
   ]
  },
  {
   "cell_type": "code",
   "execution_count": 5,
   "metadata": {},
   "outputs": [
    {
     "data": {
      "text/plain": [
       "3.6"
      ]
     },
     "execution_count": 5,
     "metadata": {},
     "output_type": "execute_result"
    }
   ],
   "source": [
    "# 17. Write a program that calculates the average of a list of numbers, excluding the smallest and largest values.\n",
    "n=[1,2,3,4,4,5,6]\n",
    "a=min(n)\n",
    "b=max(n)\n",
    "for i in n:\n",
    "    if (i==a)or(i==b):   #if i is equal to min or max value it is removed from list\n",
    "        n.remove(i)\n",
    "avg=sum(n)/len(n)  #avg is calculated on updated list\n",
    "avg"
   ]
  },
  {
   "cell_type": "code",
   "execution_count": 4,
   "metadata": {},
   "outputs": [
    {
     "name": "stdout",
     "output_type": "stream",
     "text": [
      "temperature in celcious 1285.0\n"
     ]
    }
   ],
   "source": [
    "# 18. Develop a program that converts a given temperature from Celsius to Fahrenheit.\n",
    "a=input(\"The temperature in celcious(c) or Farhenite(f):\")\n",
    "if a==\"c\":\n",
    "    c=int(input(\"enter temperature in celcious:\"))\n",
    "    temp = (c * 9/5) + 32                               #condition to convert c to f \n",
    "    print(\"temperature in farhenite\",temp)\n",
    "elif a==\"f\":\n",
    "    f=int(input(\"Ente temperature in farhenite:\"))\n",
    "    temp = (f - 32) * 5/9                               #condition to convert f to c\n",
    "    print(\"temperature in celcious\",temp)\n",
    "else:\n",
    "    print(\" invalid input\")                              #else invalid\n"
   ]
  },
  {
   "cell_type": "code",
   "execution_count": 7,
   "metadata": {},
   "outputs": [
    {
     "name": "stdout",
     "output_type": "stream",
     "text": [
      "Calculator:\n",
      "Multiplication: 2070\n"
     ]
    }
   ],
   "source": [
    "# 19. Create a program that simulates a basic calculator for addition, subtraction, multiplication, and division.\n",
    "print(\"Calculator:\")\n",
    "a=input(\"enter the operation [+-*/]\")\n",
    "if a=='+':\n",
    "    n1=int(input(\"number1:\"))\n",
    "    n2=int(input(\"number2\"))\n",
    "    n=n1+n2                             # condition for adding 2 no.\n",
    "    print(\"Addition:\",n)\n",
    "elif a=='-':\n",
    "    n1=int(input(\"number1:\"))\n",
    "    n2=int(input(\"number2\"))\n",
    "    n=n1-n2                             # condition for subtracting 2 no.\n",
    "    print(\"Substraction:\",n)\n",
    "elif a=='*':\n",
    "    n1=int(input(\"number1:\"))\n",
    "    n2=int(input(\"number2\"))\n",
    "    n=n1*n2                             # condition for multiplying 2 no.\n",
    "    print(\"Multiplication:\",n)\n",
    "elif a=='/':\n",
    "    n1=int(input(\"number1:\"))\n",
    "    n2=int(input(\"number2\"))\n",
    "    n=n1/n2                             # condition for dividing 2 no.\n",
    "    print(\"Division:\",n)\n",
    "else:\n",
    "    print(\"Invalid operation\")          # else invalid\n"
   ]
  },
  {
   "cell_type": "code",
   "execution_count": 9,
   "metadata": {},
   "outputs": [
    {
     "name": "stdout",
     "output_type": "stream",
     "text": [
      "Root 1: 1.2333440468689063\n"
     ]
    }
   ],
   "source": [
    "# 20. Write a program that determines the roots of a cubic equation using the Cardano formula.\n",
    "a = 5\n",
    "b = 4\n",
    "c = 11                   # inputing coefficient of equation ax**3 + bx**2 + cx + d = 0\n",
    "d = 9\n",
    "\n",
    "p =c/a-(b**2)/(3*(a**2))     # substituting equation by p, q\n",
    "q = (2 *(b**3))/(27 *(a**3))-(b * c)/(3 * (a**2))+d/a\n",
    "D =(q/2)**2+(p/3)**3         # calculating discrirminant\n",
    "\n",
    "if D>0:                     #If D > 0, there is one real root and two complex conjugate roots.\n",
    "    u =(D**0.5)-(q/2)**0.5\n",
    "    v =(D**0.5)+(q/2)**0.5\n",
    "    y1 =u**(1/3)+v**(1/3)-(b / (3 * a))\n",
    "\n",
    "elif D ==0:                 #If D = 0, there is one real root and two equal real roots.\n",
    "    u =(q/2)**0.5\n",
    "    y1 =2 *u**(1/3)-(b / (3 * a))\n",
    "    y2 = -u**(1/3)-(b / (3 * a))\n",
    "    y3 = -u**(1/3)-(b / (3 * a))\n",
    "else:                      # else D < 0, all three roots are real.\n",
    "    u = 0.5*(D-(q/2)**2)\n",
    "    v = -q/2+u\n",
    "    w = -q/2-u\n",
    "    y1 = (v**(1/3)+w**(1/3))-(b / (3 * a))\n",
    "\n",
    "\n",
    "print(\"Root 1:\", y1)\n",
    "if D == 0:\n",
    "    print(\"Root 2:\", y2)\n",
    "    print(\"Root 3:\", y3)"
   ]
  },
  {
   "cell_type": "code",
   "execution_count": 2,
   "metadata": {},
   "outputs": [
    {
     "name": "stdout",
     "output_type": "stream",
     "text": [
      "90000+'20%'on income\n",
      "Tax:450000.0\n"
     ]
    }
   ],
   "source": [
    "# Advanced Level:\n",
    "# 21. Create a program that calculates the income tax based on the user's income and tax brackets\n",
    "i=int(input(\"Enetr Your Income:\"))     #user input\n",
    "if i<=300000:\n",
    "    print(\"There are tax\")\n",
    "    print(f\"Tax:0\")                    #income tax slab based on income\n",
    "elif (i>300000)&(i<=600000):\n",
    "    t=(i*5)/100                        #calculating tax for each slab\n",
    "    print(\"'5%' on income \")\n",
    "    print(f\"Tax:{t}\")\n",
    "elif(i>600000)&(i<=900000):\n",
    "    t=(i*10)/100\n",
    "    print(\"15000+'10%'on income\")\n",
    "    print(f\"Tax:{t+15000}\")\n",
    "elif(i>900000)&(i<=1200000):\n",
    "    t=(i*15)/100\n",
    "    print(\"45000+'15%' on income\")\n",
    "    print(f\"Tax:{t+45000}\")\n",
    "\n",
    "else:\n",
    "    t=(i*20)/100\n",
    "    print(\"90000+'20%'on income\")\n",
    "    print(f\"Tax:{t+90000}\")"
   ]
  },
  {
   "cell_type": "code",
   "execution_count": 27,
   "metadata": {},
   "outputs": [
    {
     "name": "stdout",
     "output_type": "stream",
     "text": [
      "Welcome to Rock Paper Scissior\n"
     ]
    },
    {
     "name": "stdout",
     "output_type": "stream",
     "text": [
      "computer:Paper,player:Scissior result:Player wins\n"
     ]
    }
   ],
   "source": [
    "# 22. Write a program that simulates a rock-paper-scissors game against the computer.\n",
    "import random as r                        #random for computer choice\n",
    "print(\"Welcome to Rock Paper Scissior\")\n",
    "s={1:'Rock',2:'Paper',3:'Scissior'}        # choices dict\n",
    "p=int(input(\"Eneter 1/2/3 for Rock/Paper/Scissior:\"))      #player choice\n",
    "c=r.randint(1,3)\n",
    "if c==p:\n",
    "    print(f\"computer:{s.get(c)},player:{s.get(p)} result:Tie\")\n",
    "elif c!=p:                                                              #different condition for wins and loss\n",
    "    if (c==1)&(p==2):\n",
    "        print(f\"computer:{s.get(c)},player:{s.get(p)} result:Player wins\")\n",
    "    elif (c==2)&(p==1):\n",
    "        print(f\"computer:{s.get(c)},player:{s.get(p)} result:Computer wins\")\n",
    "    elif (c==2)&(p==3):\n",
    "        print(f\"computer:{s.get(c)},player:{s.get(p)} result:Player wins\")\n",
    "    elif (c==3)&(p==2):\n",
    "        print(f\"computer:{s.get(c)},player:{s.get(p)} result:Computer wins\")\n",
    "    elif (c==1)&(p==3):\n",
    "        print(f\"computer:{s.get(c)},player:{s.get(p)} result:Computer wins\")\n",
    "    elif (c==3)&(p==1):\n",
    "        print(f\"computer:{s.get(c)},player:{s.get(p)} result:Player wins\")\n",
    "    else:\n",
    "        print(\"Invalid input\")    #if no  choice out of dict invalid input\n"
   ]
  },
  {
   "cell_type": "code",
   "execution_count": 33,
   "metadata": {},
   "outputs": [
    {
     "name": "stdout",
     "output_type": "stream",
     "text": [
      "Too long name\n"
     ]
    }
   ],
   "source": [
    "# 23. Develop a program that generates a random password based on user preferences (length, complexity)\n",
    "import random as r\n",
    "n=input(\"enter your name:\")   #user input\n",
    "m=str(r.randint(100,1000))\n",
    "o=str(r.randint(10,100))         #random int to generate password\n",
    "l=\"@gamil.com\"\n",
    "a=\"@\"\n",
    "if len(n)<=4:                    #complxity of password based on length\n",
    "    p=n+m+l\n",
    "    print(\"Your Password:\",p)\n",
    "elif (len(n)>4) & (len(n)<=10):\n",
    "    p=n+m+a+o+l\n",
    "    print(\"Your Password:\",p)\n",
    "else:\n",
    "    print(\"Too long name\")\n",
    "\n",
    "     "
   ]
  },
  {
   "cell_type": "code",
   "execution_count": 47,
   "metadata": {},
   "outputs": [
    {
     "name": "stdout",
     "output_type": "stream",
     "text": [
      "Hell or Heaven\n",
      "You are given situation where you have to choose options.\n",
      "Based on right options you are alloted HELL OR HEAVEN!\n",
      "                                      \n",
      "Situation 1: Witnessing a Co-worker Stealing\n",
      "                                           \n",
      "You're at work, and you notice a co-worker taking office supplies from the company's storage room without permission.\n",
      "Your co-worker is struggling financially and justifies it as a way to make ends meet. You have two options:\n",
      "                                           \n",
      "Option 1: Confront your co-worker directly, express your concerns, and suggest finding a different solution for their financial troubles.\n",
      "Option 2: Report the incident to your supervisor or the appropriate authority, adhering to the company policies on theft and misconduct.\n",
      "                                           \n",
      "Situation 2: Witnessing Bullying at School\n",
      "                                           \n",
      "You're a student at a high school, and you witness another student being bullied by a group of classmates.\n",
      "The victim is visibly upset and distressed. You have two options:\n",
      "                                           \n",
      "Option 1: Ignore the situation, not wanting to get involved or fear becoming a target yourself.\n",
      "Option 2: Step in, offer support to the victim, and report the bullying to a teacher, school counselor, or principal to ensure the situation is addressed appropriately.\n",
      "                                           \n",
      "Situation 3: Discovering a Friend's Secret\n",
      "                                           \n",
      "You find out that your close friend has been keeping a potentially harmful secret that could impact their well-being.\n",
      "They've confided in you, asking you not to tell anyone. You have two options:\n",
      "                                           \n",
      "Option 1: Respect your friend's trust and keep their secret, believing that they'll handle the situation on their own.\n",
      "Option 2: Express your concern for your friend's well-being and encourage them to seek professional help or support from a trusted adult, even if it means breaking their confidence.\n",
      "                                           \n",
      "Congratulations! Your Are going To Heaven.\n"
     ]
    }
   ],
   "source": [
    "# 24. Create a program that implements a simple text-based adventure game with branching scenarios.\n",
    "print(\"Hell or Heaven\")\n",
    "print(\"You are given situation where you have to choose options.\\nBased on right options you are alloted HELL OR HEAVEN!\")\n",
    "print(\"                                      \")\n",
    "print(\"Situation 1: Witnessing a Co-worker Stealing\")\n",
    "print(\"                                           \")\n",
    "result=0\n",
    "print(\"You're at work, and you notice a co-worker taking office supplies from the company's storage room without permission.\\nYour co-worker is struggling financially and justifies it as a way to make ends meet. You have two options:\")\n",
    "print(\"                                           \")\n",
    "print(\"Option 1: Confront your co-worker directly, express your concerns, and suggest finding a different solution for their financial troubles.\\nOption 2: Report the incident to your supervisor or the appropriate authority, adhering to the company policies on theft and misconduct.\")\n",
    "first=int(input(\"Enter your choice:\"))\n",
    "if first==2:\n",
    "     result+=1\n",
    "else:\n",
    "     pass\n",
    "print(\"                                           \")\n",
    "print(\"Situation 2: Witnessing Bullying at School\")\n",
    "print(\"                                           \")\n",
    "print(\"You're a student at a high school, and you witness another student being bullied by a group of classmates.\\nThe victim is visibly upset and distressed. You have two options:\")\n",
    "print(\"                                           \")\n",
    "print(\"Option 1: Ignore the situation, not wanting to get involved or fear becoming a target yourself.\\nOption 2: Step in, offer support to the victim, and report the bullying to a teacher, school counselor, or principal to ensure the situation is addressed appropriately.\")\n",
    "second=int(input(\"Enter your choice:\"))\n",
    "if second==2:\n",
    "     result+=1\n",
    "else:\n",
    "     pass\n",
    "print(\"                                           \")\n",
    "print(\"Situation 3: Discovering a Friend's Secret\")\n",
    "print(\"                                           \")\n",
    "third=int(input(\"Enter your choice:\"))\n",
    "print(\"You find out that your close friend has been keeping a potentially harmful secret that could impact their well-being.\\nThey've confided in you, asking you not to tell anyone. You have two options:\")\n",
    "print(\"                                           \")\n",
    "print(\"Option 1: Respect your friend's trust and keep their secret, believing that they'll handle the situation on their own.\\nOption 2: Express your concern for your friend's well-being and encourage them to seek professional help or support from a trusted adult, even if it means breaking their confidence.\")\n",
    "print(\"                                           \")\n",
    "if third==2:\n",
    "     result+=1\n",
    "else:\n",
    "     pass\n",
    "if result>=2:\n",
    "     print(\"Congratulations! Your Are going To Heaven.\")\n",
    "else:\n",
    "     print(\"You are going to Hell.\")"
   ]
  },
  {
   "cell_type": "code",
   "execution_count": 54,
   "metadata": {},
   "outputs": [
    {
     "name": "stdout",
     "output_type": "stream",
     "text": [
      "4 X + -2 = 10\n",
      "4 X = 12\n",
      "X = 3.0\n",
      "10.0 = 10\n",
      "Equation Satisfied!\n"
     ]
    }
   ],
   "source": [
    "# 25. Build a program that solves a linear equation  for x, considering different cases.\n",
    "a=4\n",
    "b=-2\n",
    "c=10\n",
    "#ax+b=c\n",
    "print(a,\"X\",\"+\",b,\"=\",c)\n",
    "d=c-b\n",
    "print(a,\"X\",\"=\",d)              #inputs coefficients of equation \n",
    "e=d/a\n",
    "print(\"X\",\"=\",e)\n",
    "f=a*e\n",
    "g=f+b                           # checks value of x\n",
    "print(g,\"=\",c)\n",
    "if g==c:                        # checks condition\n",
    "    print(\"Equation Satisfied!\")\n",
    "else:\n",
    "    print(\"Equation Not Satisfied!\")"
   ]
  },
  {
   "cell_type": "code",
   "execution_count": 15,
   "metadata": {},
   "outputs": [
    {
     "name": "stdout",
     "output_type": "stream",
     "text": [
      "Attempting all questions are necessary\n",
      " \n",
      "1.Which of the following is not a valid way to comment a single line in Python?\n",
      "a) // This is a comment\n",
      "b) # This is a comment\n",
      "c) ''' This is a comment '''\n",
      "\n",
      "2.What will the following code output?\n",
      "x = 5\n",
      "y = 2\n",
      "result = x ** y\n",
      "print(result)\n",
      "\n",
      "a) 10\n",
      "b) 25\n",
      "c) 7\n",
      "d) 32\n",
      "\n",
      "Which of the following data structures in Python is mutable?\n",
      "a) Tuple\n",
      "b) List\n",
      "c) String\n",
      "d) Dictionary\n",
      "\n",
      "YOU ARE PASS ,score= 2\n"
     ]
    }
   ],
   "source": [
    "# 26. Write a program that simulates a basic quiz game with multiple-choice questions and scoring\n",
    "print(\"Attempting all questions are necessary\\n \")\n",
    "score=0                       #score to display result\n",
    "print(\"1.Which of the following is not a valid way to comment a single line in Python?\\na) // This is a comment\\nb) # This is a comment\\nc) ''' This is a comment '''\\n\")\n",
    "a=int(input(\"Enter the options in 1/2/3:\"))    # user input for question           \n",
    "if a==1:\n",
    "   score+=1\n",
    "print(\"2.What will the following code output?\\nx = 5\\ny = 2\\nresult = x ** y\\nprint(result)\\n\")\n",
    "print(\"a) 10\\nb) 25\\nc) 7\\nd) 32\\n\")\n",
    "a=int(input(\"Enter the options in 1/2/3/4:\"))\n",
    "if a==2:\n",
    "   score+=1\n",
    "print(\"Which of the following data structures in Python is mutable?\\na) Tuple\\nb) List\\nc) String\\nd) Dictionary\\n\")\n",
    "a=int(input(\"Enter the options in 1/2/3/4:\"))\n",
    "if a==2:                           #condition to pass\n",
    "   score+=1\n",
    "if score>=2:\n",
    "   print(\"YOU ARE PASS ,score=\",score) \n",
    "else:\n",
    "   print(\"YOU ARE FAIL,score=\",score)\n",
    "\n"
   ]
  },
  {
   "cell_type": "code",
   "execution_count": 22,
   "metadata": {},
   "outputs": [
    {
     "name": "stdout",
     "output_type": "stream",
     "text": [
      "17 is a prime number\n"
     ]
    }
   ],
   "source": [
    "# 27. Develop a program that determines whether a given year is a prime number or not\n",
    "n = int(input(\"enter year:\"))\n",
    "if n > 1:\n",
    "\t\n",
    "\tfor i in range(2, int(n/2)+1):   # here we see that number is not dividible  between n and n/2\n",
    "\t\t\n",
    "\t\tif (n % i) == 0:\n",
    "\t\t\tprint(n, \"is not a prime number\")  # if divisible it is not prime\n",
    "\t\t\tbreak\n",
    "\telse:\n",
    "\t\tprint(n, \"is a prime number\")  # else it is prime\n",
    "else:\n",
    "\tprint(n, \"is not a prime number\")"
   ]
  },
  {
   "cell_type": "code",
   "execution_count": 9,
   "metadata": {},
   "outputs": [
    {
     "name": "stdout",
     "output_type": "stream",
     "text": [
      "3 4 5\n"
     ]
    }
   ],
   "source": [
    "# 28. Create a program that sorts three numbers in ascending order using conditional statements.\n",
    "n1=4\n",
    "n2=3\n",
    "n3=5\n",
    "#finding min and max from 3 numbers\n",
    "a=max(n1,n2,n3)\n",
    "b=min(n1,n2,n3)\n",
    "\n",
    "if (n1!=a) &(n1!=b):   #finding the middle term \n",
    "    c=n1\n",
    "elif(n2!=a)&(n2!=b):\n",
    "    c=n2\n",
    "else:\n",
    "    c=n3\n",
    "print(b,c,a)  #arranging the no.s as max mid min\n",
    "\n",
    "    "
   ]
  },
  {
   "cell_type": "code",
   "execution_count": 11,
   "metadata": {},
   "outputs": [
    {
     "name": "stdout",
     "output_type": "stream",
     "text": [
      "The roots are complex: -0.5+1.5\n"
     ]
    }
   ],
   "source": [
    "# 29. Build a program that determines the roots of a quartic equation using numerical methods.\n",
    "a = int(input(\"Enter the coefficient a: \"))\n",
    "b = int(input(\"Enter the coefficient b: \"))\n",
    "c = int(input(\"Enter the coefficient c: \"))\n",
    "\n",
    "\n",
    "dis = b**2 - 4*a*c # Calculate the discriminant \n",
    "\n",
    "\n",
    "if dis > 0: #checking the nature of roots\n",
    "    \n",
    "    root1 = (-b + 0.5*(dis)) / (2*a)# checking Two real and distinct roots\n",
    "    root2 = (-b - 0.5*(dis)) / (2*a)\n",
    "    print(f\"The roots are real and distinct: {root1} and {root2}\")\n",
    "else:\n",
    "    if dis == 0:\n",
    "    \n",
    "      root = -b / (2*a)# checking One real root \n",
    "      print(f\"The root is real and equal: {root}\")\n",
    "    else:\n",
    "    \n",
    "      realPart = -b / (2*a)#checking Complex roots\n",
    "      imagPart = 0.5*(abs(dis)) / (2*a)\n",
    "      print(f\"The roots are complex: {realPart}+{imagPart}\")\n"
   ]
  },
  {
   "cell_type": "code",
   "execution_count": 15,
   "metadata": {},
   "outputs": [
    {
     "name": "stdout",
     "output_type": "stream",
     "text": [
      "WELCOME TO BMI CALCULATOR\n",
      "\n",
      "Seek professional guidance for a comprehensive weight loss strategy, including dietary changes, exercise, and potentially medical interventions as necessary.\n",
      "\n",
      "The person is:Obese\n"
     ]
    }
   ],
   "source": [
    "# 30. Write a program that calculates the BMI (Body Mass Index) and provides health recommendations based \n",
    "# on the user's input.\n",
    "print(\"WELCOME TO BMI CALCULATOR\\n\")\n",
    "bmi=int(input(\"Enter Your BMI\"))\n",
    "if bmi < 18.5:\n",
    "        category = \"Underweight\"  # if bmi is below 18.5 the person is underweight\n",
    "        print(\"Increase calorie intake with a balanced diet, focusing on nutrient-rich foods, and consider strength training to build muscle mass.\")\n",
    "elif 18.5 <= bmi < 24.9:\n",
    "        category = \"Normal Weight\"# if bmi is between 18.5 and 24.9 the person is normal\n",
    "        print(\"You are fine just maintain the same health\\n\")\n",
    "elif 25.0 <= bmi < 29.9:\n",
    "        category = \"Overweight\"    # if bmi is between 25and 29.9 the person is overweight\n",
    "        print(\"Adopt a calorie-controlled diet, engage in regular physical activity, and consult a dietitian for a personalized weight management plan\\n\")\n",
    "else:\n",
    "        category = \"Obese\"         #else person is obese\n",
    "        print(\"Seek professional guidance for a comprehensive weight loss strategy, including dietary changes, exercise, and potentially medical interventions as necessary.\\n\")\n",
    "print(f\"The person is:{category}\")"
   ]
  },
  {
   "cell_type": "code",
   "execution_count": 1,
   "metadata": {},
   "outputs": [
    {
     "name": "stdout",
     "output_type": "stream",
     "text": [
      "Your Password: Aashay206@13@gamil.com\n"
     ]
    }
   ],
   "source": [
    "# Challenge Level:\n",
    "# 31. Create a program that validates a password based on complexity rules (length, characters, etc.)\n",
    "import random as r\n",
    "n=input(\"enter your name:\")   #user input\n",
    "m=str(r.randint(100,1000))\n",
    "o=str(r.randint(10,100))         #random int to generate password\n",
    "l=\"@gamil.com\"                   #specific keyword\n",
    "a=\"@\"                            #special charecter\n",
    "if len(n)<=4:                    #complxity of password based on length\n",
    "    p=n+m+l\n",
    "    print(\"Your Password:\",p)\n",
    "elif (len(n)>4) & (len(n)<=10):\n",
    "    p=n+m+a+o+l\n",
    "    print(\"Your Password:\",p)\n",
    "else:\n",
    "    print(\"Too long name\")"
   ]
  },
  {
   "cell_type": "code",
   "execution_count": 5,
   "metadata": {},
   "outputs": [
    {
     "name": "stdout",
     "output_type": "stream",
     "text": [
      "Subtracting metrix A and B:\n",
      "[[-3 -3]\n",
      " [-3 -3]]\n"
     ]
    }
   ],
   "source": [
    "# 32. Develop a program that performs matrix addition and subtraction based on user input\n",
    "import numpy as np              # using numpy module for matrix creation and operation\n",
    "choice=int(input(\"Enter choice add or sub 1/2: \"))  #user input\n",
    "\n",
    "A=np.array([[1,2],[3,4]])       # creating 2 matrix\n",
    "B=np.array([[4,5],[6,7]]) \n",
    "                               #matrix addition and subtraction for 2D matrix\n",
    "if choice==1:\n",
    "    print(\"Adding matrix A and B:\")\n",
    "    C=np.add(A,B)              #adding 2 matrix\n",
    "    print(C)\n",
    "else:\n",
    "    print(\"Subtracting metrix A and B:\")\n",
    "    C=np.subtract(A,B)             #subtracting 2 matrix\n",
    "    print(C)#matrix addition and subtraction for 2D matrix\n"
   ]
  },
  {
   "cell_type": "code",
   "execution_count": 7,
   "metadata": {},
   "outputs": [
    {
     "name": "stdout",
     "output_type": "stream",
     "text": [
      "The GCD of the two numbers is 6\n"
     ]
    }
   ],
   "source": [
    "# 33. Write a program that calculates the greatest common divisor (GCD) of two numbers using the Euclidean \n",
    "# algorithm\n",
    "n1 = int(input(\"Enter the first number: \"))  #user input\n",
    "n2 = int(input(\"Enter the second number: \"))\n",
    "if n1 < n2:\n",
    "    n1, n2 = n2, n1  # Swap the numbers if num2 is larger\n",
    "\n",
    "while n2:             # loop until n2 is zero\n",
    "    r = n1 % n2       # calculating remainder by n1 % n2\n",
    "    n1 = n2\n",
    "    n2 = r\n",
    "\n",
    "gcd = n1              #finally n1 becomes gcd after n2 becomes zero\n",
    "\n",
    "print(f\"The GCD of the two numbers is {gcd}\")"
   ]
  },
  {
   "cell_type": "code",
   "execution_count": 36,
   "metadata": {},
   "outputs": [
    {
     "name": "stdout",
     "output_type": "stream",
     "text": [
      "[[16 19]\n",
      " [36 43]\n",
      " [36 43]]\n"
     ]
    }
   ],
   "source": [
    "# 34. Build a program that performs matrix multiplication using nested loops and conditional statements\n",
    "import numpy as np   \n",
    "A=np.array([[1,2],[3,4],[3,4]])       # creating 2 matrix\n",
    "B=np.array([[4,5],[6,7]])       # using matrix multiplcation\n",
    "c=np.matmul(A,B)\n",
    "print(c)\n",
    "    "
   ]
  },
  {
   "cell_type": "code",
   "execution_count": null,
   "metadata": {},
   "outputs": [],
   "source": [
    "\"\"03rd_Sep'23 _Operators _and_Control_flow.ipynb\"\""
   ]
  }
 ],
 "metadata": {
  "kernelspec": {
   "display_name": "Python 3",
   "language": "python",
   "name": "python3"
  },
  "language_info": {
   "codemirror_mode": {
    "name": "ipython",
    "version": 3
   },
   "file_extension": ".py",
   "mimetype": "text/x-python",
   "name": "python",
   "nbconvert_exporter": "python",
   "pygments_lexer": "ipython3",
   "version": "3.11.5"
  }
 },
 "nbformat": 4,
 "nbformat_minor": 2
}
